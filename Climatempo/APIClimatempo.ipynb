{
 "cells": [
  {
   "cell_type": "markdown",
   "metadata": {},
   "source": [
    "### CLIMATEMPO\n",
    "A [Climatempo](https://www.climatempo.com.br/) é uma das maiores \"agências\" de tempo do Brazil. Para que os clientes pudessem acessar o tempo e utilizá-los em seus websites, a empresa disponibilizou um conjunto de [APIs](https://www.climatempo.com.br/).\n",
    "\n"
   ]
  },
  {
   "cell_type": "markdown",
   "metadata": {},
   "source": [
    "### Desafio\n",
    "Criar um programa que busque o tempo nas capitais do SUDESTE e traga o tempo atual"
   ]
  },
  {
   "cell_type": "code",
   "execution_count": 1,
   "metadata": {},
   "outputs": [],
   "source": [
    "# coloque aqui seu algoritmo"
   ]
  },
  {
   "cell_type": "code",
   "execution_count": 21,
   "metadata": {},
   "outputs": [],
   "source": [
    "# coloque na variável abaixo o seu token comece a programar :D\n",
    "TOKEN = 'TOKENAQUI'\n",
    "cidades = ['Porto Velho','Manaus','Rio Branco','Campo Grande','Macapá','Brasília','Boa Vista','Cuiabá','Palmas',\\\n",
    "           'Teresina','São Paulo','Rio de Janeiro','Belém','São Luís','Goiânia','Salvador','Maceió','Porto Alegre',\\\n",
    "           'Curitiba','Florianópolis','Belo Horizonte','Fortaleza','Recife','João Pessoa','Aracaju','Natal','Vitória']"
   ]
  },
  {
   "cell_type": "code",
   "execution_count": null,
   "metadata": {},
   "outputs": [],
   "source": [
    "# código"
   ]
  }
 ],
 "metadata": {
  "kernelspec": {
   "display_name": "Python 3",
   "language": "python",
   "name": "python3"
  },
  "language_info": {
   "codemirror_mode": {
    "name": "ipython",
    "version": 3
   },
   "file_extension": ".py",
   "mimetype": "text/x-python",
   "name": "python",
   "nbconvert_exporter": "python",
   "pygments_lexer": "ipython3",
   "version": "3.6.8"
  }
 },
 "nbformat": 4,
 "nbformat_minor": 2
}
