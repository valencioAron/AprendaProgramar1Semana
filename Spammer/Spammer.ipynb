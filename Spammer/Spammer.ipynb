{
 "cells": [
  {
   "cell_type": "markdown",
   "metadata": {},
   "source": [
    "### Spammer\n",
    "Você recebeu uma lista de emails com o nome dos usuários, qual produto eles compraram e seus emails.\n",
    "\n",
    "Você deverá mandar um email para cada um deles, dando boas vindas. Para que você aumente as chances de abertura do seu email, é interessante que você o personalize. Assim, coloque no título do email o nome do aluno e no corpo, o nome completo."
   ]
  },
  {
   "cell_type": "markdown",
   "metadata": {},
   "source": [
    "Neste exemplo, usaremos diretamente a biblioteca do Gmail. Mas [existem outras maneira de fazer](https://nitratine.net/blog/post/how-to-send-an-email-with-python/), talvez até mais simples (usando o protocolo SMTP). Use esta [ajuda](https://pastebin.com/aCQaVavQ) para escrever o seu código"
   ]
  },
  {
   "cell_type": "code",
   "execution_count": 1,
   "metadata": {},
   "outputs": [],
   "source": [
    "# Insira aqui o seu algoritmo/lógica\n",
    "\n"
   ]
  }
 ],
 "metadata": {
  "kernelspec": {
   "display_name": "Python 3",
   "language": "python",
   "name": "python3"
  },
  "language_info": {
   "codemirror_mode": {
    "name": "ipython",
    "version": 3
   },
   "file_extension": ".py",
   "mimetype": "text/x-python",
   "name": "python",
   "nbconvert_exporter": "python",
   "pygments_lexer": "ipython3",
   "version": "3.6.8"
  }
 },
 "nbformat": 4,
 "nbformat_minor": 2
}
